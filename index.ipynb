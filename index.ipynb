{
 "cells": [
  {
   "cell_type": "markdown",
   "metadata": {},
   "source": [
    "### Finite Field Addition and Subtraction\n",
    "\n",
    "Remember that we need to define Finite Field addition in a way as to make sure that the result is still in the set. That is, we want to make sure that addition in a Finite Field is closed.\n",
    "\n",
    "The % operator does the actual modulo operation. Also remember that + and - need to be in () because in the order of operations % comes before + and -.\n",
    "\n",
    "This should be somewhat intuitive. We take any two numbers in the set, add and \"wrap around\" the end to get the sum. We are creating our own addition operator here and it’s a bit unintuitive. After all $11+~f~17=9$ just doesn’t look right for most people because they’re not used to Finite Field addition."
   ]
  },
  {
   "cell_type": "markdown",
   "metadata": {},
   "source": [
    "Solve these equations in \\\\(F_{31}\\\\):\n",
    "\n",
    "```\n",
    "2+15=?\n",
    "17+21=?\n",
    "29-4=?\n",
    "15-30=?\n",
    "```"
   ]
  },
  {
   "cell_type": "code",
   "execution_count": 1,
   "metadata": {},
   "outputs": [],
   "source": [
    "# remember that % is the modulo operator\n",
    "prime = 31\n",
    "# 2+15=?\n",
    "# 17+21=?\n",
    "# 29-4=?\n",
    "# 15-30=?"
   ]
  },
  {
   "cell_type": "markdown",
   "metadata": {},
   "source": [
    "### Test Driven Exercise\n",
    "\n",
    "Create the `__add__` and `__sub__` methods for your library:"
   ]
  },
  {
   "cell_type": "code",
   "execution_count": 1,
   "metadata": {},
   "outputs": [],
   "source": [
    "from ecc import FieldElement\n",
    "\n",
    "class FieldElement(FieldElement):\n",
    "\n",
    "    def __add__(self, other):\n",
    "        if self.prime != other.prime:\n",
    "            raise RuntimeError('Primes must be the same')\n",
    "        # self.num and other.num are the actual values\n",
    "        # self.prime is what you'll need to mod against\n",
    "        # You need to return an element of the same class\n",
    "        # use: self.__class__(num, prime)\n",
    "        \n",
    "        num = (self.num + other.num) % self.prime\n",
    "        return self.__class__(num,self.prime)\n",
    "        #pass\n",
    "\n",
    "    def __sub__(self, other):\n",
    "        if self.prime != other.prime:\n",
    "            raise RuntimeError('Primes must be the same')\n",
    "            \n",
    "        num = (self.num - other.num) % self.prime\n",
    "        return self.__class__(num,self.prime)"
   ]
  },
  {
   "cell_type": "code",
   "execution_count": null,
   "metadata": {},
   "outputs": [],
   "source": []
  }
 ],
 "metadata": {
  "kernelspec": {
   "display_name": "Python 3",
   "language": "python",
   "name": "python3"
  },
  "language_info": {
   "codemirror_mode": {
    "name": "ipython",
    "version": 3
   },
   "file_extension": ".py",
   "mimetype": "text/x-python",
   "name": "python",
   "nbconvert_exporter": "python",
   "pygments_lexer": "ipython3",
   "version": "3.6.4"
  }
 },
 "nbformat": 4,
 "nbformat_minor": 2
}
